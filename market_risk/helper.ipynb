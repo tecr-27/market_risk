{
 "cells": [
  {
   "cell_type": "code",
   "execution_count": 1,
   "id": "5bb849e9-0fa7-4091-b15c-78373a09847d",
   "metadata": {},
   "outputs": [],
   "source": [
    "import pandas as pd\n",
    "import yfinance as yf\n",
    "import numba as nb\n",
    "\n",
    "def get_data(list_of_stocks: list, start_date:str, end_date:str , columns:list, interval:str, resample=None) -> pd.DataFrame:\n",
    "    lst=[]\n",
    "    for stock in list_of_stocks:\n",
    "        equity=yf.Ticker(stock)\n",
    "        equity_data=equity.history(start=start_date, end=end_date, interval=interval)\n",
    "        if resample != None:\n",
    "            equity_data = equity_data.resample(resample).last()\n",
    "        equity_data['returns']=equity_data['Close'].pct_change()\n",
    "        a=equity_data['returns']\n",
    "        lst.append(a)\n",
    "    df = pd.concat(lst, axis=1, join= 'outer')\n",
    "    df.columns= columns\n",
    "    df.dropna(axis=0,inplace=True)\n",
    "    return df\n",
    "\n",
    "get_data_nb = nb.jit(get_data)\n",
    "\n",
    "def kelly_criterion():\n",
    "    pass\n"
   ]
  }
 ],
 "metadata": {
  "kernelspec": {
   "display_name": "Python 3 (ipykernel)",
   "language": "python",
   "name": "python3"
  },
  "language_info": {
   "codemirror_mode": {
    "name": "ipython",
    "version": 3
   },
   "file_extension": ".py",
   "mimetype": "text/x-python",
   "name": "python",
   "nbconvert_exporter": "python",
   "pygments_lexer": "ipython3",
   "version": "3.9.6"
  }
 },
 "nbformat": 4,
 "nbformat_minor": 5
}
